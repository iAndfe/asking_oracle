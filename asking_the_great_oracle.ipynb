{
 "cells": [
  {
   "cell_type": "code",
   "execution_count": null,
   "metadata": {},
   "outputs": [],
   "source": [
    "api = 'Get your own API freeloader'"
   ]
  },
  {
   "cell_type": "code",
   "execution_count": null,
   "metadata": {},
   "outputs": [],
   "source": [
    "# Input is a csv file of addresses:\n",
    "# e.g., 1 Main Street\n",
    "\n",
    "import pandas as pd\n",
    "df = pd.read_csv('df.csv')\n",
    "address = df['address'].apply(lambda x: x.replace(' ','+'))\n",
    "\n",
    "# Enter city in format below\n",
    "city = 'Lower+Hutt'\n",
    "\n",
    "# Enter country in format below\n",
    "country = ',+New+Zealand'"
   ]
  },
  {
   "cell_type": "code",
   "execution_count": null,
   "metadata": {},
   "outputs": [],
   "source": [
    "import requests\n",
    "import urllib.request, json \n",
    "from pandas.io.json import json_normalize\n",
    "\n",
    "full_json = []\n",
    "saved_export = []\n",
    "\n",
    "for i in range(len(address)):\n",
    "    url = \"https://maps.googleapis.com/maps/api/geocode/json?address=\" + address[i] + \",+\" + city + country + \"&key=\" + api\n",
    "    with urllib.request.urlopen(url) as url:\n",
    "        data = json.load(url)\n",
    "    full_json.append(data)\n",
    "    saved_export.append(str(data))"
   ]
  },
  {
   "cell_type": "code",
   "execution_count": null,
   "metadata": {},
   "outputs": [],
   "source": [
    "lats = []\n",
    "lons = []\n",
    "\n",
    "for i in range(len(address)):\n",
    "    lats.append(full_json[i]['results'][0]['geometry']['location']['lat'])\n",
    "    lons.append(full_json[i]['results'][0]['geometry']['location']['lng'])"
   ]
  },
  {
   "cell_type": "code",
   "execution_count": null,
   "metadata": {},
   "outputs": [],
   "source": [
    "df['lat'] = lats\n",
    "df['lon'] = lons\n",
    "df['full_query_result'] = saved_export"
   ]
  },
  {
   "cell_type": "code",
   "execution_count": null,
   "metadata": {},
   "outputs": [],
   "source": [
    "df.to_csv('delphi.csv')"
   ]
  }
 ],
 "metadata": {
  "kernelspec": {
   "display_name": "Python 3.10.5 ('env')",
   "language": "python",
   "name": "python3"
  },
  "language_info": {
   "codemirror_mode": {
    "name": "ipython",
    "version": 3
   },
   "file_extension": ".py",
   "mimetype": "text/x-python",
   "name": "python",
   "nbconvert_exporter": "python",
   "pygments_lexer": "ipython3",
   "version": "3.10.5"
  },
  "orig_nbformat": 4,
  "vscode": {
   "interpreter": {
    "hash": "cb09f78110704961541167d3be9016f9ecd863ef8b983a9895d3afe98400bb82"
   }
  }
 },
 "nbformat": 4,
 "nbformat_minor": 2
}
